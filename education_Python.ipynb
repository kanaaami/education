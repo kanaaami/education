{
 "cells": [
  {
   "cell_type": "markdown",
   "metadata": {},
   "source": [
    "# B3教育　Python"
   ]
  },
  {
   "cell_type": "markdown",
   "metadata": {},
   "source": [
    "# 0. 目次"
   ]
  },
  {
   "cell_type": "markdown",
   "metadata": {},
   "source": [
    "1. データ取得\n",
    "2. データ加工\n",
    "3. データ可視化"
   ]
  },
  {
   "cell_type": "markdown",
   "metadata": {},
   "source": [
    "# 1. データ取得\n",
    "1-1. ライブラリのインポート\n",
    "\n",
    "1-2. データセットの読み込み\n",
    "\n",
    "1-3. csvの書き込み\n",
    "\n",
    "1-4. csvの読み込み"
   ]
  },
  {
   "cell_type": "markdown",
   "metadata": {},
   "source": [
    "## 1-1. ライブラリのインポート"
   ]
  },
  {
   "cell_type": "markdown",
   "metadata": {},
   "source": [
    "ライブラリ：一連の関数を備えたPythonのプログラム\n",
    "- 他のPythonプログラムに埋め込んで使用ができる．\n",
    "- 組み込む（インポートする）ことで，作成しているプログラムで使えるようになる．\n",
    "\n",
    "\n",
    "使うライブラリ全てを最初にインポートするプログラムを多く見かける．  \n",
    "今回は使うライブラリについて説明するため，随時インポートする．"
   ]
  },
  {
   "cell_type": "code",
   "execution_count": 1,
   "metadata": {
    "collapsed": true
   },
   "outputs": [],
   "source": [
    "import pandas as pd\n",
    "import numpy as np"
   ]
  },
  {
   "cell_type": "markdown",
   "metadata": {},
   "source": [
    "import ライブラリ名 as 省略形  \n",
    "毎回ライブラリ名を書く手間を省くために省略形の名前を定義することができる．  \n",
    "省略形の名前は任意であるが，通例は存在する．\n",
    "\n",
    "- pandas（pd）：データ解析を支援する機能を提供するライブラリ\n",
    "- numpy（np）：学術計算をするためのライブラリ"
   ]
  },
  {
   "cell_type": "markdown",
   "metadata": {},
   "source": [
    "## 1-2. データセットの読み込み"
   ]
  },
  {
   "cell_type": "markdown",
   "metadata": {},
   "source": [
    "scikit-learn：Pythonのオープンソース機械学習ライブラリ\n",
    "\n",
    "- すぐに試すことのできるデータセットが含まれている"
   ]
  },
  {
   "cell_type": "code",
   "execution_count": 2,
   "metadata": {
    "collapsed": true
   },
   "outputs": [],
   "source": [
    "from sklearn.datasets import load_linnerud\n",
    "linnerud = load_linnerud()"
   ]
  },
  {
   "cell_type": "markdown",
   "metadata": {},
   "source": [
    "from パッケージ名 import ライブラリ名  \n",
    "ライブラリが複数まとめられたパッケージから特定のライブラリをインポートする．\n",
    "- sklearn.datasets：scikit-learnに組み込まれているデータセットのパッケージ\n",
    "- load_linnerud：linnerudデータセットを用いるためのライブラリ\n",
    "\n",
    "\n",
    "load_linerud()でデータセットの確認をすることができる．  \n",
    "それをlinnerudという名前で定義している．  \n",
    "\n",
    "linnerud.dataを実行すると以下のようなarray型のデータが表示される．\n",
    "<p><code>\n",
    "array([[   5.,  162.,   60.],  \n",
    "       [   2.,  110.,   60.],  \n",
    "       [  12.,  101.,  101.],  \n",
    "       ...\n",
    "</code></p>\n",
    "\n",
    "linnerud.targetを実行すると以下のようなarray型のデータが表示される．\n",
    "<p><code>\n",
    "array([[ 191.,   36.,   50.],\n",
    "       [ 189.,   37.,   52.],\n",
    "       [ 193.,   38.,   58.],\n",
    "       ...\n",
    "</code></p>\n",
    "\n",
    "データの表示方法は複数存在する．\n",
    "- array：多次元のデータを格納できる構造．配列とも呼ばれる．numpyと対応している．\n",
    "- DataFrame：2次元のデータを格納できる構造．pandasと対応している．"
   ]
  },
  {
   "cell_type": "code",
   "execution_count": 25,
   "metadata": {},
   "outputs": [],
   "source": [
    "data = pd.DataFrame(linnerud.data, columns=linnerud.feature_names)\n",
    "data"
   ]
  },
  {
   "cell_type": "markdown",
   "metadata": {},
   "source": [
    "pd.DataFrame(numpyデータなど, columns=カラム名)  \n",
    "一番左の1列をインデックスと呼び，自動でナンバリングされる．ただし0からであるので注意．  \n",
    "一番上の1行をカラムと呼び，それぞれをカラム名を定義する必要がある．\n",
    "  \n",
    "linnerud.feature_namesを実行すると以下のようなarray型のデータが表示される．  \n",
    "['Chins', 'Situps', 'Jumps']  \n",
    "- Chins：懸垂の回数\n",
    "- Situps：腹筋の回数\n",
    "- Jumps：跳躍\n",
    "\n",
    "### 問1. dataの先頭3行のみ表示せよ．（ググる！）"
   ]
  },
  {
   "cell_type": "code",
   "execution_count": 4,
   "metadata": {},
   "outputs": [],
   "source": [
    "#解1\n"
   ]
  },
  {
   "cell_type": "code",
   "execution_count": 26,
   "metadata": {},
   "outputs": [],
   "source": [
    "target = pd.DataFrame(linnerud.target, columns=linnerud.target_names)\n",
    "target"
   ]
  },
  {
   "cell_type": "markdown",
   "metadata": {},
   "source": [
    "linnerud.target_namesを実行すると以下のようなarray型のデータが表示される．  \n",
    "['Weight', 'Waist', 'Pulse']\n",
    "- Weight：体重\n",
    "- Waist：胴囲\n",
    "- Pulse：脈拍\n",
    "\n",
    "\n",
    "### 問2. targetの末尾5行のみ表示せよ．（ググる！）"
   ]
  },
  {
   "cell_type": "code",
   "execution_count": 6,
   "metadata": {},
   "outputs": [],
   "source": [
    "#解2\n"
   ]
  },
  {
   "cell_type": "markdown",
   "metadata": {},
   "source": [
    "### 問3. dataとtargetを横方向に結合しdatargetという名前のDataFrameを作成せよ．\n",
    "\n",
    "- A.join(B)\n",
    "- pd.concat([A, B], axis=1)\n",
    "- pd.merge(A, B, right_index=True, left_index=True)\n",
    "    - AもBもDataFrame"
   ]
  },
  {
   "cell_type": "code",
   "execution_count": 8,
   "metadata": {},
   "outputs": [],
   "source": [
    "#解3\n"
   ]
  },
  {
   "cell_type": "markdown",
   "metadata": {},
   "source": [
    "# 1-3. csvの書き込み"
   ]
  },
  {
   "cell_type": "markdown",
   "metadata": {},
   "source": [
    "DataFrameをcsvファイルに書き込むことができる．"
   ]
  },
  {
   "cell_type": "code",
   "execution_count": 9,
   "metadata": {
    "collapsed": true
   },
   "outputs": [],
   "source": [
    "import csv"
   ]
  },
  {
   "cell_type": "markdown",
   "metadata": {},
   "source": [
    "- csv：csvの読み書きに用いるライブラリ"
   ]
  },
  {
   "cell_type": "markdown",
   "metadata": {},
   "source": [
    "### 問4. datargetをoutputというファイル名でcsvファイルとして出力せよ．（ググる！）"
   ]
  },
  {
   "cell_type": "code",
   "execution_count": 11,
   "metadata": {
    "collapsed": true
   },
   "outputs": [],
   "source": [
    "#解4\n"
   ]
  },
  {
   "cell_type": "markdown",
   "metadata": {},
   "source": [
    "エクスプローラーを確認してみよう．\n",
    "### 問5. 配布したinputというファイル名のcsvファイルをdatarget_newという名で読み込め．（ググる！）"
   ]
  },
  {
   "cell_type": "code",
   "execution_count": 13,
   "metadata": {},
   "outputs": [],
   "source": [
    "#解5\n"
   ]
  },
  {
   "cell_type": "markdown",
   "metadata": {},
   "source": [
    "基本的にはdatargetと同じだが，NaNという単語やclassという列が存在する．  \n",
    "Pulseの値によってclassを決定した．（後ほど使う）\n",
    "\n",
    "(Pulse)：(class)\n",
    "- 45-49：A\n",
    "- 50-54：B\n",
    "- 55-59：C\n",
    "- 60-64：D\n",
    "- 65-69：E\n",
    "- 70-74：F"
   ]
  },
  {
   "cell_type": "markdown",
   "metadata": {},
   "source": [
    "# 2. データ加工\n",
    "#### 2-1. 欠損値・インデックス・カラム\n",
    "#### 2-2. 範囲選択\n",
    "#### 2-3. 基本統計量"
   ]
  },
  {
   "cell_type": "markdown",
   "metadata": {},
   "source": [
    "## 2-1. 欠損値・インデックス・カラム"
   ]
  },
  {
   "cell_type": "markdown",
   "metadata": {},
   "source": [
    "### 問6. datarget_newの欠損値（NaN）のある行を削除し，datarget_new_NaNというDataFrame名にせよ．（ググる！）"
   ]
  },
  {
   "cell_type": "code",
   "execution_count": 15,
   "metadata": {
    "scrolled": false
   },
   "outputs": [],
   "source": [
    "#解6\n"
   ]
  },
  {
   "cell_type": "markdown",
   "metadata": {},
   "source": [
    "### 問7. インデックスを振り直し，datarget_new_indexというDataFrame名にせよ．（ググる！）"
   ]
  },
  {
   "cell_type": "code",
   "execution_count": 17,
   "metadata": {},
   "outputs": [],
   "source": [
    "#解7\n"
   ]
  },
  {
   "cell_type": "markdown",
   "metadata": {},
   "source": [
    "### 問8. classというカラム名をClassに変え，datarget_new_ClassというDataFrame名にせよ．（ググる！）"
   ]
  },
  {
   "cell_type": "code",
   "execution_count": 19,
   "metadata": {},
   "outputs": [],
   "source": [
    "#解8\n"
   ]
  },
  {
   "cell_type": "markdown",
   "metadata": {},
   "source": [
    "## 2-2. 範囲選択"
   ]
  },
  {
   "cell_type": "markdown",
   "metadata": {},
   "source": [
    "head()やtail()以外にも範囲選択を行うことが可能である．\n",
    "### 問9. datargetのうち，カラム名が'Jumps', 'Weight'である列を抽出せよ．\n",
    "- 射影：列の抽出\n",
    "- loc：行・列をラベルで指定\n",
    "\n",
    "\n",
    "- A.loc[:, ['B', 'C']]\n",
    "    - AはDataFrame\n",
    "    - B,Cはカラム名\n",
    "    - 「:,」は列のときは必要"
   ]
  },
  {
   "cell_type": "code",
   "execution_count": 20,
   "metadata": {},
   "outputs": [],
   "source": [
    "#解9\n"
   ]
  },
  {
   "cell_type": "markdown",
   "metadata": {},
   "source": [
    "### 問10. datargetのうち，7行目と11行目の行を抽出せよ．\n",
    "- 選択：行の抽出\n",
    "- iloc：行・列を番号で指定（先頭はゼロ）\n",
    "\n",
    "\n",
    "- A.iloc[[B,C]]\n",
    "    - AはDataFrame\n",
    "    - B,Cは数字"
   ]
  },
  {
   "cell_type": "code",
   "execution_count": 21,
   "metadata": {
    "scrolled": true
   },
   "outputs": [],
   "source": [
    "#解10\n"
   ]
  },
  {
   "cell_type": "markdown",
   "metadata": {},
   "source": [
    "### 問11. datargetのうち，7行目から11行目，3列目から5列目の範囲を抽出せよ．\n",
    "- ix：行・列をラベルまたは番号で指定\n",
    "\n",
    "\n",
    "- A.ix[B:C,D:E]\n",
    "    - AはDataFrame\n",
    "    - Bは目的の行の最初の数字\n",
    "    - Cは目的の行の最後の数字\n",
    "    - Dは目的の列の最初の数字から1引いた数字\n",
    "    - Eは目的の列の最後の数字"
   ]
  },
  {
   "cell_type": "code",
   "execution_count": 22,
   "metadata": {},
   "outputs": [],
   "source": [
    "#解11\n"
   ]
  },
  {
   "cell_type": "markdown",
   "metadata": {},
   "source": [
    "## 2-3. 基本統計量"
   ]
  },
  {
   "cell_type": "markdown",
   "metadata": {},
   "source": [
    "DataFrameでは各列の基本統計量を簡単に算出することが可能である． \n",
    "  \n",
    "datarget.meanを実行すると以下のような各列の平均が表示される．\n",
    "<p><code>\n",
    "Chins       9.45\n",
    "Situps    145.55\n",
    "Jumps      70.30\n",
    "Weight    178.60\n",
    "Waist      35.40\n",
    "Pulse      56.10\n",
    "</code></p>\n",
    "\n",
    "datarget.stdを実行すると以下のような各列の分散が表示される．\n",
    "<p><code>\n",
    "Chins      5.286278\n",
    "Situps    62.566575\n",
    "Jumps     51.277470\n",
    "Weight    24.690505\n",
    "Waist      3.201973\n",
    "Pulse      7.210373\n",
    "</code></p>"
   ]
  },
  {
   "cell_type": "markdown",
   "metadata": {},
   "source": [
    "### 問12. datargetの各カラムのデータ数，平均，分散，最小，最高などの基本統計量を一度で表示せよ．（ググる！）"
   ]
  },
  {
   "cell_type": "code",
   "execution_count": 23,
   "metadata": {},
   "outputs": [],
   "source": [
    "#解12\n"
   ]
  },
  {
   "cell_type": "markdown",
   "metadata": {},
   "source": [
    "# 3. 可視化 \n",
    "#### 3-1. ヒストグラム\n",
    "#### 3-2. 円グラフ\n",
    "#### 3-3. 散布図\n",
    "#### 3-4. ヒートマップ"
   ]
  },
  {
   "cell_type": "code",
   "execution_count": 24,
   "metadata": {
    "collapsed": true
   },
   "outputs": [],
   "source": [
    "import matplotlib.pyplot as plt\n",
    "%matplotlib inline"
   ]
  },
  {
   "cell_type": "markdown",
   "metadata": {},
   "source": [
    "- matplotlib.pyplot：グラフを描画するときなどに使われる準的なライブラリ\n",
    "- %matplotlib inline：notebook出力に必要な「おまじない」（%も含む）"
   ]
  },
  {
   "cell_type": "markdown",
   "metadata": {},
   "source": [
    "## 3-1. ヒストグラム"
   ]
  },
  {
   "cell_type": "code",
   "execution_count": null,
   "metadata": {},
   "outputs": [],
   "source": [
    "plt.hist(datarget.Pulse)"
   ]
  },
  {
   "cell_type": "markdown",
   "metadata": {},
   "source": [
    "datarget.Pulseを実行することで以下のようなSeries型のデータが表示される．\n",
    "<p><code>\n",
    "0     50.0\n",
    "1     52.0\n",
    "2     58.0\n",
    "3     62.0\n",
    "4     46.0\n",
    "...\n",
    "</code></p>\n",
    "\n",
    "- Series：1次元のデータを格納できる構造\n",
    "### 問13. 以下のようなヒストグラムを作成せよ．\n",
    "plt.hist()のかっこ内でbins, rwidth, rangeを用いる．"
   ]
  },
  {
   "cell_type": "code",
   "execution_count": 20,
   "metadata": {},
   "outputs": [
    {
     "data": {
      "text/plain": [
       "(array([ 2.,  8.,  4.,  4.,  1.,  1.]),\n",
       " array([ 45.,  50.,  55.,  60.,  65.,  70.,  75.]),\n",
       " <a list of 6 Patch objects>)"
      ]
     },
     "execution_count": 20,
     "metadata": {},
     "output_type": "execute_result"
    },
    {
     "data": {
      "image/png": "[encoded data removed]",
      "text/plain": [
       "<matplotlib.figure.Figure at 0xe69afd0>"
      ]
     },
     "metadata": {},
     "output_type": "display_data"
    }
   ],
   "source": [
    "#このセルは実行しない"
   ]
  },
  {
   "cell_type": "code",
   "execution_count": null,
   "metadata": {
    "collapsed": true
   },
   "outputs": [],
   "source": [
    "#解13\n"
   ]
  },
  {
   "cell_type": "markdown",
   "metadata": {},
   "source": [
    "## 3-2. 円グラフ"
   ]
  },
  {
   "cell_type": "code",
   "execution_count": 27,
   "metadata": {},
   "outputs": [],
   "source": [
    "datarget_Class = datarget_new_Class.groupby('Class').size()\n",
    "datarget_Class"
   ]
  },
  {
   "cell_type": "markdown",
   "metadata": {},
   "source": [
    "- groupby：特定の列の集計\n",
    "- size：データの個数\n",
    "\n",
    "\n",
    "print(type(datarget_Class))を実行するとSeries型であることが分かる．"
   ]
  },
  {
   "cell_type": "code",
   "execution_count": null,
   "metadata": {},
   "outputs": [],
   "source": [
    "plt.pie(datarget_Class)"
   ]
  },
  {
   "cell_type": "markdown",
   "metadata": {},
   "source": [
    "### 問14. 以下のような円グラフを作成せよ．\n",
    "plt.pie()のかっこ内でstartangle, counterclock, labelsを用いる．  \n",
    "それとは別に楕円から円に修正するコードも必須である．"
   ]
  },
  {
   "cell_type": "code",
   "execution_count": 23,
   "metadata": {},
   "outputs": [
    {
     "data": {
      "text/plain": [
       "(-1.1278560125832877,\n",
       " 1.1212660335714539,\n",
       " -1.1000000103584977,\n",
       " 1.1000000062032405)"
      ]
     },
     "execution_count": 23,
     "metadata": {},
     "output_type": "execute_result"
    },
    {
     "data": {
      "image/png": "[encoded data removed]",
      "text/plain": [
       "<matplotlib.figure.Figure at 0xe4de3c8>"
      ]
     },
     "metadata": {},
     "output_type": "display_data"
    }
   ],
   "source": [
    "#このセルは実行しない"
   ]
  },
  {
   "cell_type": "code",
   "execution_count": null,
   "metadata": {
    "collapsed": true
   },
   "outputs": [],
   "source": [
    "#解14\n"
   ]
  },
  {
   "cell_type": "markdown",
   "metadata": {},
   "source": [
    "## 3-3. 散布図"
   ]
  },
  {
   "cell_type": "markdown",
   "metadata": {},
   "source": [
    "### 問14. datargetのデータを用いて，横軸がWeight，縦軸がWaistとなる散布図を作成せよ．\n",
    "- plt.scatter(A,B)\n",
    "    - Aは横軸のデータのSeries型\n",
    "    - Bは縦軸のデータのSeries型"
   ]
  },
  {
   "cell_type": "code",
   "execution_count": 28,
   "metadata": {},
   "outputs": [],
   "source": [
    "#解14\n"
   ]
  },
  {
   "cell_type": "code",
   "execution_count": 29,
   "metadata": {},
   "outputs": [],
   "source": [
    "datarget_csj = datarget_new_Class.drop(['Waist', 'Weight', 'Pulse'], axis=1)\n",
    "datarget_csj"
   ]
  },
  {
   "cell_type": "markdown",
   "metadata": {},
   "source": [
    "- A.drop(['B'])\n",
    "    - AはDataFrame\n",
    "    - Bは削除したいカラム名\n",
    "- axis=1　：列の削除のときに必要（行の削除のときには必要ない）"
   ]
  },
  {
   "cell_type": "code",
   "execution_count": 30,
   "metadata": {
    "collapsed": true
   },
   "outputs": [],
   "source": [
    "import seaborn as sns"
   ]
  },
  {
   "cell_type": "markdown",
   "metadata": {},
   "source": [
    "- seaborn：matplotlibをベースにしたグラフ描画ライブラリ"
   ]
  },
  {
   "cell_type": "code",
   "execution_count": null,
   "metadata": {},
   "outputs": [],
   "source": [
    "sns.pairplot(datarget_csj)"
   ]
  },
  {
   "cell_type": "markdown",
   "metadata": {},
   "source": [
    "- sns.pairplot(A)\n",
    "    - AはDataFrame"
   ]
  },
  {
   "cell_type": "markdown",
   "metadata": {},
   "source": [
    "## 3-4. ヒートマップ"
   ]
  },
  {
   "cell_type": "markdown",
   "metadata": {},
   "source": [
    "### 問15. datarget_csjのデータを用いてヒートマップを作成せよ．"
   ]
  },
  {
   "cell_type": "code",
   "execution_count": null,
   "metadata": {},
   "outputs": [],
   "source": [
    "#解15\n"
   ]
  },
  {
   "cell_type": "markdown",
   "metadata": {
    "collapsed": true
   },
   "source": [
    "見た目だけでは相関の良し悪しが明確に判断できないため，相関係数という値で比較することができる．  \n",
    "相関係数が0に近いほど相関が小さい．\n",
    "\n",
    "- corr：相関係数の計算\n",
    "- annot=True：相関係数の表示"
   ]
  }
 ],
 "metadata": {
  "anaconda-cloud": {},
  "kernelspec": {
   "display_name": "Python 2",
   "language": "python",
   "name": "python2"
  },
  "language_info": {
   "codemirror_mode": {
    "name": "ipython",
    "version": 2
   },
   "file_extension": ".py",
   "mimetype": "text/x-python",
   "name": "python",
   "nbconvert_exporter": "python",
   "pygments_lexer": "ipython2",
   "version": "2.7.13"
  }
 },
 "nbformat": 4,
 "nbformat_minor": 1
}
